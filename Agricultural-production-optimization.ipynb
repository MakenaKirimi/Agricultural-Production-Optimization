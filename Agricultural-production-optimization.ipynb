{
 "cells": [
  {
   "cell_type": "code",
   "execution_count": 6,
   "id": "4ec8fcdf",
   "metadata": {},
   "outputs": [],
   "source": [
    "import numpy as np\n",
    "import pandas as pd\n",
    "import matplotlib.pyplot as plt\n",
    "import seaborn as sns\n",
    "from ipywidgets import interact"
   ]
  },
  {
   "cell_type": "code",
   "execution_count": 13,
   "id": "cb0ca462",
   "metadata": {},
   "outputs": [],
   "source": [
    "data = pd.read_csv('data.csv')                 "
   ]
  },
  {
   "cell_type": "code",
   "execution_count": 32,
   "id": "f441a320",
   "metadata": {},
   "outputs": [
    {
     "name": "stdout",
     "output_type": "stream",
     "text": [
      "(2200, 8)\n"
     ]
    }
   ],
   "source": [
    "print(data.shape)"
   ]
  },
  {
   "cell_type": "code",
   "execution_count": 12,
   "id": "725d6b36",
   "metadata": {},
   "outputs": [
    {
     "data": {
      "text/html": [
       "<div>\n",
       "<style scoped>\n",
       "    .dataframe tbody tr th:only-of-type {\n",
       "        vertical-align: middle;\n",
       "    }\n",
       "\n",
       "    .dataframe tbody tr th {\n",
       "        vertical-align: top;\n",
       "    }\n",
       "\n",
       "    .dataframe thead th {\n",
       "        text-align: right;\n",
       "    }\n",
       "</style>\n",
       "<table border=\"1\" class=\"dataframe\">\n",
       "  <thead>\n",
       "    <tr style=\"text-align: right;\">\n",
       "      <th></th>\n",
       "      <th>N</th>\n",
       "      <th>P</th>\n",
       "      <th>K</th>\n",
       "      <th>temperature</th>\n",
       "      <th>humidity</th>\n",
       "      <th>ph</th>\n",
       "      <th>rainfall</th>\n",
       "      <th>label</th>\n",
       "    </tr>\n",
       "  </thead>\n",
       "  <tbody>\n",
       "    <tr>\n",
       "      <th>0</th>\n",
       "      <td>90</td>\n",
       "      <td>42</td>\n",
       "      <td>43</td>\n",
       "      <td>20.879744</td>\n",
       "      <td>82.002744</td>\n",
       "      <td>6.502985</td>\n",
       "      <td>202.935536</td>\n",
       "      <td>rice</td>\n",
       "    </tr>\n",
       "    <tr>\n",
       "      <th>1</th>\n",
       "      <td>85</td>\n",
       "      <td>58</td>\n",
       "      <td>41</td>\n",
       "      <td>21.770462</td>\n",
       "      <td>80.319644</td>\n",
       "      <td>7.038096</td>\n",
       "      <td>226.655537</td>\n",
       "      <td>rice</td>\n",
       "    </tr>\n",
       "    <tr>\n",
       "      <th>2</th>\n",
       "      <td>60</td>\n",
       "      <td>55</td>\n",
       "      <td>44</td>\n",
       "      <td>23.004459</td>\n",
       "      <td>82.320763</td>\n",
       "      <td>7.840207</td>\n",
       "      <td>263.964248</td>\n",
       "      <td>rice</td>\n",
       "    </tr>\n",
       "    <tr>\n",
       "      <th>3</th>\n",
       "      <td>74</td>\n",
       "      <td>35</td>\n",
       "      <td>40</td>\n",
       "      <td>26.491096</td>\n",
       "      <td>80.158363</td>\n",
       "      <td>6.980401</td>\n",
       "      <td>242.864034</td>\n",
       "      <td>rice</td>\n",
       "    </tr>\n",
       "    <tr>\n",
       "      <th>4</th>\n",
       "      <td>78</td>\n",
       "      <td>42</td>\n",
       "      <td>42</td>\n",
       "      <td>20.130175</td>\n",
       "      <td>81.604873</td>\n",
       "      <td>7.628473</td>\n",
       "      <td>262.717340</td>\n",
       "      <td>rice</td>\n",
       "    </tr>\n",
       "  </tbody>\n",
       "</table>\n",
       "</div>"
      ],
      "text/plain": [
       "    N   P   K  temperature   humidity        ph    rainfall label\n",
       "0  90  42  43    20.879744  82.002744  6.502985  202.935536  rice\n",
       "1  85  58  41    21.770462  80.319644  7.038096  226.655537  rice\n",
       "2  60  55  44    23.004459  82.320763  7.840207  263.964248  rice\n",
       "3  74  35  40    26.491096  80.158363  6.980401  242.864034  rice\n",
       "4  78  42  42    20.130175  81.604873  7.628473  262.717340  rice"
      ]
     },
     "execution_count": 12,
     "metadata": {},
     "output_type": "execute_result"
    }
   ],
   "source": [
    "data.head()"
   ]
  },
  {
   "cell_type": "code",
   "execution_count": 34,
   "id": "95b7b255",
   "metadata": {},
   "outputs": [
    {
     "data": {
      "text/plain": [
       "N              0\n",
       "P              0\n",
       "K              0\n",
       "temperature    0\n",
       "humidity       0\n",
       "ph             0\n",
       "rainfall       0\n",
       "label          0\n",
       "dtype: int64"
      ]
     },
     "execution_count": 34,
     "metadata": {},
     "output_type": "execute_result"
    }
   ],
   "source": [
    "data.isnull().sum()"
   ]
  },
  {
   "cell_type": "code",
   "execution_count": 35,
   "id": "13bb44cf",
   "metadata": {},
   "outputs": [
    {
     "data": {
      "text/plain": [
       "rice           100\n",
       "maize          100\n",
       "jute           100\n",
       "cotton         100\n",
       "coconut        100\n",
       "papaya         100\n",
       "orange         100\n",
       "apple          100\n",
       "muskmelon      100\n",
       "watermelon     100\n",
       "grapes         100\n",
       "mango          100\n",
       "banana         100\n",
       "pomegranate    100\n",
       "lentil         100\n",
       "blackgram      100\n",
       "mungbean       100\n",
       "mothbeans      100\n",
       "pigeonpeas     100\n",
       "kidneybeans    100\n",
       "chickpea       100\n",
       "coffee         100\n",
       "Name: label, dtype: int64"
      ]
     },
     "execution_count": 35,
     "metadata": {},
     "output_type": "execute_result"
    }
   ],
   "source": [
    "data['label'].value_counts()"
   ]
  },
  {
   "cell_type": "code",
   "execution_count": 36,
   "id": "c7727381",
   "metadata": {},
   "outputs": [
    {
     "name": "stdout",
     "output_type": "stream",
     "text": [
      "The average Nitrogen ratio in the soil is : 50.551818181818184\n",
      "The average Phosphorus ratio in the soil is : 53.36272727272727\n",
      "The average Potassium ratio in the soil is : 48.14909090909091\n",
      "The average temperature in degree Celcius : 25.616243851779544\n",
      "The average relative humidity in % : 71.48177921778637\n",
      "The average PH Value of the soil : 6.469480065256364\n",
      "The average rainfall in mm : 103.46365541576817\n"
     ]
    }
   ],
   "source": [
    "print(f\"The average Nitrogen ratio in the soil is : {data.N.mean()}\")\n",
    "print(f\"The average Phosphorus ratio in the soil is : {data.P.mean()}\")\n",
    "print(f\"The average Potassium ratio in the soil is : {data.K.mean()}\")\n",
    "print(f\"The average temperature in degree Celcius : {data.temperature.mean()}\")\n",
    "print(f\"The average relative humidity in % : {data.humidity.mean()}\")\n",
    "print(f\"The average PH Value of the soil : {data.ph.mean()}\")\n",
    "print(f\"The average rainfall in mm : {data.rainfall.mean()}\")"
   ]
  },
  {
   "cell_type": "code",
   "execution_count": 22,
   "id": "2d6dd338",
   "metadata": {},
   "outputs": [
    {
     "data": {
      "application/vnd.jupyter.widget-view+json": {
       "model_id": "ff277fdb573346aab7ff6bdd09c151e0",
       "version_major": 2,
       "version_minor": 0
      },
      "text/plain": [
       "interactive(children=(Dropdown(description='crops', options=('rice', 'maize', 'jute', 'cotton', 'coconut', 'pa…"
      ]
     },
     "metadata": {},
     "output_type": "display_data"
    }
   ],
   "source": [
    "## Summary Statistics for Each Crop \n",
    "\n",
    "@interact\n",
    "def summary(crops = list(data['label'].value_counts().index)):\n",
    "    x = data[data['label'] == crops]\n",
    "    \n",
    "    print(\"..........................\")\n",
    "    print(\"Statistics for Nitrogen\")\n",
    "    print(f\"Minimum Nitrogen required: {x['N'].min()}\")\n",
    "    print(f\"Average Nitrogen required: {x['N'].mean()}\")\n",
    "    print(f\"Maximum Nitrogen required: {x['N'].max()}\")\n",
    "    \n",
    "    print(\"..........................\")\n",
    "    print(\"Statistics for Phosphorus\")\n",
    "    print(f\"Minimum Phosphorus required: {x['P'].min()}\")\n",
    "    print(f\"Average Phosphorus required: {x['P'].mean()}\")\n",
    "    print(f\"Maximum Phosphorus required: {x['P'].max()}\")\n",
    "    \n",
    "    print(\"..........................\")\n",
    "    print(\"Statistics for Potassium\")\n",
    "    print(f\"Minimum Potassium required: {x['K'].min()}\")\n",
    "    print(f\"Average Potassium required: {x['K'].mean()}\")\n",
    "    print(f\"Maximum Potassium required: {x['K'].max()}\")\n",
    "    \n",
    "    print(\"..........................\")\n",
    "    print(\"Statistics for Temperature\")\n",
    "    print(f\"Minimum Temperature required: {x['temperature'].min()}\")\n",
    "    print(f\"Average Temperature required: {x['temperature'].mean()}\")\n",
    "    print(f\"Maximum Temperature required: {x['temperature'].max()}\")\n",
    "    \n",
    "    print(\"..........................\")\n",
    "    print(\"Statistics for Humidity\")\n",
    "    print(f\"Minimum Humidity required: {x['humidity'].min()}\")\n",
    "    print(f\"Average Humidity required: {x['humidity'].mean()}\")\n",
    "    print(f\"Maximum Humidity required: {x['humidity'].max()}\")\n",
    "    \n",
    "    \n",
    "    print(\"..........................\")\n",
    "    print(\"Statistics for PH\")\n",
    "    print(f\"Minimum PH required: {x['ph'].min()}\")\n",
    "    print(f\"Average PH required: {x['ph'].mean()}\")\n",
    "    print(f\"Maximum PH required: {x['ph'].max()}\")\n",
    "    \n",
    "    print(\"..........................\")\n",
    "    print(\"Statistics for Rainfall\")\n",
    "    print(f\"Minimum Rainfall required: {x['rainfall'].min()}\")\n",
    "    print(f\"Average Rainfall required: {x['rainfall'].mean()}\")\n",
    "    print(f\"Maximum Rainfall required: {x['rainfall'].max()}\")"
   ]
  },
  {
   "cell_type": "code",
   "execution_count": 18,
   "id": "1719d203",
   "metadata": {},
   "outputs": [
    {
     "data": {
      "application/vnd.jupyter.widget-view+json": {
       "model_id": "fae3805e687b4beaa74cce5374bb1c9b",
       "version_major": 2,
       "version_minor": 0
      },
      "text/plain": [
       "interactive(children=(Dropdown(description='conditions', options=('N', 'P', 'K', 'temperature', 'ph', 'humidit…"
      ]
     },
     "metadata": {},
     "output_type": "display_data"
    }
   ],
   "source": [
    "## Compare the Average Requirement for each crop with average conditions\n",
    "\n",
    "@interact \n",
    "def compare(conditions = ['N', 'P', 'K', 'temperature', 'ph', 'humidity', 'rainfall']):\n",
    "    print(f\"The Average Value for {conditions} is {data[conditions].mean()}\")\n",
    "    print(\"...............................\")\n",
    "    print(f\"Rice: {data[(data['label'] == 'rice')][conditions].mean()}\")\n",
    "    print(f\"Blakgrams: {data[(data['label'] == 'blackgram')][conditions].mean()}\")\n",
    "    print(f\"Banana: {data[(data['label'] == 'banana')][conditions].mean()}\")\n",
    "    print(f\"Jute: {data[(data['label'] == 'jute')][conditions].mean()}\")\n",
    "    print(f\"Coconut: {data[(data['label'] == 'coconut')][conditions].mean()}\")\n",
    "    print(f\"Papaya: {data[(data['label'] == 'papaya')][conditions].mean()}\")\n",
    "    print(f\"Apple: {data[(data['label'] == 'apple')][conditions].mean()}\")\n",
    "    print(f\"Muskmelon: {data[(data['label'] == 'muskmelon')][conditions].mean()}\")\n",
    "    print(f\"Grapes: {data[(data['label'] == 'grapes')][conditions].mean()}\")\n",
    "    print(f\"Watermelon: {data[(data['label'] == 'watermelon')][conditions].mean()}\")\n",
    "    print(f\"Kidney Beans: {data[(data['label'] == 'kidneybeans')][conditions].mean()}\")\n",
    "    print(f\"Mung Beans: {data[(data['label'] == 'mungbean')][conditions].mean()}\")\n",
    "    print(f\"Oranges: {data[(data['label'] == 'orange')][conditions].mean()}\")\n",
    "    print(f\"Chick Peas: {data[(data['label'] == 'chickpea')][conditions].mean()}\")\n",
    "    print(f\"Lentils: {data[(data['label'] == 'lentil')][conditions].mean()}\")\n",
    "    print(f\"Cotton: {data[(data['label'] == 'cotton')][conditions].mean()}\")\n",
    "    print(f\"Maize: {data[(data['label'] == 'maize')][conditions].mean()}\")\n",
    "    print(f\"Moth Beans: {data[(data['label'] == 'mothbean')][conditions].mean()}\")\n",
    "    print(f\"Pigeon Peas: {data[(data['label'] == 'pigeonpea')][conditions].mean()}\")\n",
    "    print(f\"Mango: {data[(data['label'] == 'mango')][conditions].mean()}\")\n",
    "    print(f\"Pomegranate: {data[(data['label'] == 'pomegranate')][conditions].mean()}\")\n",
    "    print(f\"Coffee: {data[(data['label'] == 'coffee')][conditions].mean()}\")\n",
    "    "
   ]
  },
  {
   "cell_type": "code",
   "execution_count": null,
   "id": "912c4526",
   "metadata": {},
   "outputs": [],
   "source": [
    "## To make the compare function more intuitive\n",
    "@interact \n",
    "def compare(conditions = ['N', 'P', 'K', 'temperature', 'ph', 'humidity', 'rainfall']):\n",
    "    print(f\"Crops that require greater than average {conditions}\", '\\n')\n",
    "    print(data[data[conditions] > data[conditions].mean()]['label'].unique())\n",
    "    print(\"..................................\")\n",
    "    print(f\"Crops that require less than average {conditions}\", '\\n')\n",
    "    print(data[data[conditions] <= data[conditions].mean()]['label'].unique())\n",
    "    "
   ]
  },
  {
   "cell_type": "markdown",
   "id": "7043f2aa",
   "metadata": {},
   "source": [
    "# Distribution"
   ]
  },
  {
   "cell_type": "code",
   "execution_count": 17,
   "id": "1359920c",
   "metadata": {},
   "outputs": [
    {
     "name": "stderr",
     "output_type": "stream",
     "text": [
      "C:\\Users\\FAITH MAKENA K\\AppData\\Local\\Programs\\Python\\Python310\\lib\\site-packages\\seaborn\\distributions.py:2619: FutureWarning: `distplot` is a deprecated function and will be removed in a future version. Please adapt your code to use either `displot` (a figure-level function with similar flexibility) or `histplot` (an axes-level function for histograms).\n",
      "  warnings.warn(msg, FutureWarning)\n",
      "C:\\Users\\FAITH MAKENA K\\AppData\\Local\\Programs\\Python\\Python310\\lib\\site-packages\\seaborn\\distributions.py:2619: FutureWarning: `distplot` is a deprecated function and will be removed in a future version. Please adapt your code to use either `displot` (a figure-level function with similar flexibility) or `histplot` (an axes-level function for histograms).\n",
      "  warnings.warn(msg, FutureWarning)\n",
      "C:\\Users\\FAITH MAKENA K\\AppData\\Local\\Programs\\Python\\Python310\\lib\\site-packages\\seaborn\\distributions.py:2619: FutureWarning: `distplot` is a deprecated function and will be removed in a future version. Please adapt your code to use either `displot` (a figure-level function with similar flexibility) or `histplot` (an axes-level function for histograms).\n",
      "  warnings.warn(msg, FutureWarning)\n",
      "C:\\Users\\FAITH MAKENA K\\AppData\\Local\\Programs\\Python\\Python310\\lib\\site-packages\\seaborn\\distributions.py:2619: FutureWarning: `distplot` is a deprecated function and will be removed in a future version. Please adapt your code to use either `displot` (a figure-level function with similar flexibility) or `histplot` (an axes-level function for histograms).\n",
      "  warnings.warn(msg, FutureWarning)\n",
      "C:\\Users\\FAITH MAKENA K\\AppData\\Local\\Programs\\Python\\Python310\\lib\\site-packages\\seaborn\\distributions.py:2619: FutureWarning: `distplot` is a deprecated function and will be removed in a future version. Please adapt your code to use either `displot` (a figure-level function with similar flexibility) or `histplot` (an axes-level function for histograms).\n",
      "  warnings.warn(msg, FutureWarning)\n",
      "C:\\Users\\FAITH MAKENA K\\AppData\\Local\\Programs\\Python\\Python310\\lib\\site-packages\\seaborn\\distributions.py:2619: FutureWarning: `distplot` is a deprecated function and will be removed in a future version. Please adapt your code to use either `displot` (a figure-level function with similar flexibility) or `histplot` (an axes-level function for histograms).\n",
      "  warnings.warn(msg, FutureWarning)\n",
      "C:\\Users\\FAITH MAKENA K\\AppData\\Local\\Programs\\Python\\Python310\\lib\\site-packages\\seaborn\\distributions.py:2619: FutureWarning: `distplot` is a deprecated function and will be removed in a future version. Please adapt your code to use either `displot` (a figure-level function with similar flexibility) or `histplot` (an axes-level function for histograms).\n",
      "  warnings.warn(msg, FutureWarning)\n"
     ]
    },
    {
     "data": {
      "image/png": "[encoded data removed]",
      "text/plain": [
       "<Figure size 1080x504 with 7 Axes>"
      ]
     },
     "metadata": {
      "needs_background": "light"
     },
     "output_type": "display_data"
    }
   ],
   "source": [
    "## Distribution of the conditions \n",
    "\n",
    "plt.rcParams['figure.figsize'] = (15, 7)\n",
    "\n",
    "plt.subplot(2, 4, 1)\n",
    "sns.distplot(data['N'], color = 'lightgrey')\n",
    "plt.xlabel('Ratio of Nitrogen', fontsize = 12)\n",
    "plt.grid()\n",
    "\n",
    "plt.subplot(2, 4, 2)\n",
    "sns.distplot(data['P'], color = 'skyblue')\n",
    "plt.xlabel('Ratio of Phosphorus', fontsize = 12)\n",
    "plt.grid()\n",
    "\n",
    "plt.subplot(2, 4, 3)\n",
    "sns.distplot(data['K'], color = 'darkblue')\n",
    "plt.xlabel('Ratio of Potassiun', fontsize = 12)\n",
    "plt.grid()\n",
    "\n",
    "plt.subplot(2, 4, 4)\n",
    "sns.distplot(data['temperature'], color = 'lightgreen')\n",
    "plt.xlabel('Temperature', fontsize = 12)\n",
    "plt.grid()\n",
    "\n",
    "plt.subplot(2, 4, 5)\n",
    "sns.distplot(data['ph'], color = 'purple')\n",
    "plt.xlabel('PH Levels', fontsize = 12)\n",
    "plt.grid()\n",
    "\n",
    "plt.subplot(2, 4, 6)\n",
    "sns.distplot(data['rainfall'], color = 'brown')\n",
    "plt.xlabel('Rainfall', fontsize = 12)\n",
    "plt.grid()\n",
    "\n",
    "plt.subplot(2, 4, 7)\n",
    "sns.distplot(data['humidity'], color = 'orange')\n",
    "plt.xlabel('Humidity', fontsize = 12)\n",
    "plt.grid()\n",
    "\n",
    "\n",
    "plt.title(\"Distribution for Agriculture Conditions\")\n",
    "plt.show()\n"
   ]
  },
  {
   "cell_type": "code",
   "execution_count": 21,
   "id": "1293a0a1",
   "metadata": {},
   "outputs": [
    {
     "name": "stdout",
     "output_type": "stream",
     "text": [
      "Crops that require highest Nitrogen in soil ['cotton']\n",
      "Crops that require highest Phosphorus in soil ['grapes' 'apple']\n",
      "Crops that require highest Potassium in soil ['grapes' 'apple']\n",
      "Crops that require very High Rainfall ['rice' 'papaya' 'coconut']\n",
      "Crops that require very Low Temperature ['grapes']\n",
      "Crops that require very High Temperature ['grapes' 'papaya']\n",
      "Crops that require very Low Humidity ['chickpea' 'kidneybeans']\n",
      "Crops that require very Low pH ['mothbeans']\n",
      "Crops that require very High pH ['mothbeans']\n"
     ]
    }
   ],
   "source": [
    "## Crops requiring the highest or lowest condition\n",
    "\n",
    "print(\"Crops that require highest Nitrogen in soil\", data[data['N'] > 120]['label'].unique())\n",
    "print(\"Crops that require highest Phosphorus in soil\", data[data['P'] > 100]['label'].unique())\n",
    "print(\"Crops that require highest Potassium in soil\", data[data['K'] > 200]['label'].unique())\n",
    "print(\"Crops that require very High Rainfall\", data[data['rainfall'] > 200]['label'].unique())\n",
    "print(\"Crops that require very Low Temperature\", data[data['temperature'] < 10]['label'].unique())\n",
    "print(\"Crops that require very High Temperature\", data[data['temperature'] > 40]['label'].unique())\n",
    "print(\"Crops that require very Low Humidity\", data[data['humidity'] < 20]['label'].unique())\n",
    "print(\"Crops that require very Low pH\", data[data['ph'] < 4]['label'].unique())\n",
    "print(\"Crops that require very High pH\", data[data['ph'] > 9]['label'].unique())"
   ]
  },
  {
   "cell_type": "code",
   "execution_count": 24,
   "id": "1035fcf7",
   "metadata": {},
   "outputs": [
    {
     "name": "stdout",
     "output_type": "stream",
     "text": [
      "Summer Crops\n",
      "['pigeonpeas' 'mothbeans' 'blackgram' 'mango' 'grapes' 'orange' 'papaya']\n",
      "...............................\n",
      "Winter Crops\n",
      "['maize' 'pigeonpeas' 'lentil' 'pomegranate' 'grapes' 'orange']\n",
      "................................\n",
      "Rainy Crops\n",
      "['rice' 'papaya' 'coconut']\n"
     ]
    }
   ],
   "source": [
    "print(\"Summer Crops\")\n",
    "print(data[(data['temperature'] > 30) & (data['humidity'] > 50)]['label'].unique())\n",
    "print(\"...............................\")\n",
    "print(\"Winter Crops\")\n",
    "print(data[(data['temperature'] < 20) & (data['humidity'] > 30)]['label'].unique())\n",
    "print(\"................................\")\n",
    "print(\"Rainy Crops\")\n",
    "print(data[(data['rainfall'] > 200) & (data['humidity'] > 30)]['label'].unique())"
   ]
  },
  {
   "cell_type": "markdown",
   "id": "3dbb0423",
   "metadata": {},
   "source": [
    "# Clustering Analysis"
   ]
  },
  {
   "cell_type": "code",
   "execution_count": 25,
   "id": "4c7abef0",
   "metadata": {},
   "outputs": [
    {
     "name": "stdout",
     "output_type": "stream",
     "text": [
      "(2200, 7)\n"
     ]
    },
    {
     "data": {
      "text/html": [
       "<div>\n",
       "<style scoped>\n",
       "    .dataframe tbody tr th:only-of-type {\n",
       "        vertical-align: middle;\n",
       "    }\n",
       "\n",
       "    .dataframe tbody tr th {\n",
       "        vertical-align: top;\n",
       "    }\n",
       "\n",
       "    .dataframe thead th {\n",
       "        text-align: right;\n",
       "    }\n",
       "</style>\n",
       "<table border=\"1\" class=\"dataframe\">\n",
       "  <thead>\n",
       "    <tr style=\"text-align: right;\">\n",
       "      <th></th>\n",
       "      <th>0</th>\n",
       "      <th>1</th>\n",
       "      <th>2</th>\n",
       "      <th>3</th>\n",
       "      <th>4</th>\n",
       "      <th>5</th>\n",
       "      <th>6</th>\n",
       "    </tr>\n",
       "  </thead>\n",
       "  <tbody>\n",
       "    <tr>\n",
       "      <th>0</th>\n",
       "      <td>90.0</td>\n",
       "      <td>42.0</td>\n",
       "      <td>43.0</td>\n",
       "      <td>20.879744</td>\n",
       "      <td>6.502985</td>\n",
       "      <td>82.002744</td>\n",
       "      <td>202.935536</td>\n",
       "    </tr>\n",
       "    <tr>\n",
       "      <th>1</th>\n",
       "      <td>85.0</td>\n",
       "      <td>58.0</td>\n",
       "      <td>41.0</td>\n",
       "      <td>21.770462</td>\n",
       "      <td>7.038096</td>\n",
       "      <td>80.319644</td>\n",
       "      <td>226.655537</td>\n",
       "    </tr>\n",
       "    <tr>\n",
       "      <th>2</th>\n",
       "      <td>60.0</td>\n",
       "      <td>55.0</td>\n",
       "      <td>44.0</td>\n",
       "      <td>23.004459</td>\n",
       "      <td>7.840207</td>\n",
       "      <td>82.320763</td>\n",
       "      <td>263.964248</td>\n",
       "    </tr>\n",
       "    <tr>\n",
       "      <th>3</th>\n",
       "      <td>74.0</td>\n",
       "      <td>35.0</td>\n",
       "      <td>40.0</td>\n",
       "      <td>26.491096</td>\n",
       "      <td>6.980401</td>\n",
       "      <td>80.158363</td>\n",
       "      <td>242.864034</td>\n",
       "    </tr>\n",
       "    <tr>\n",
       "      <th>4</th>\n",
       "      <td>78.0</td>\n",
       "      <td>42.0</td>\n",
       "      <td>42.0</td>\n",
       "      <td>20.130175</td>\n",
       "      <td>7.628473</td>\n",
       "      <td>81.604873</td>\n",
       "      <td>262.717340</td>\n",
       "    </tr>\n",
       "  </tbody>\n",
       "</table>\n",
       "</div>"
      ],
      "text/plain": [
       "      0     1     2          3         4          5           6\n",
       "0  90.0  42.0  43.0  20.879744  6.502985  82.002744  202.935536\n",
       "1  85.0  58.0  41.0  21.770462  7.038096  80.319644  226.655537\n",
       "2  60.0  55.0  44.0  23.004459  7.840207  82.320763  263.964248\n",
       "3  74.0  35.0  40.0  26.491096  6.980401  80.158363  242.864034\n",
       "4  78.0  42.0  42.0  20.130175  7.628473  81.604873  262.717340"
      ]
     },
     "execution_count": 25,
     "metadata": {},
     "output_type": "execute_result"
    }
   ],
   "source": [
    "## Find similar crops based on their soil and climatic conditions\n",
    "\n",
    "from sklearn.cluster import KMeans\n",
    "import warnings\n",
    "warnings.filterwarnings('ignore')\n",
    "\n",
    "## Select the spending score and annual income from the data\n",
    "x = data.loc[:,['N', 'P', 'K', 'temperature', 'ph', 'humidity', 'rainfall']].values\n",
    "\n",
    "# Check the shape of x\n",
    "print(x.shape)\n",
    "\n",
    "#Convert the data into a dataframe \n",
    "x_data = pd.DataFrame(x)\n",
    "x_data.head()\n"
   ]
  },
  {
   "cell_type": "code",
   "execution_count": null,
   "id": "2b7ddd96",
   "metadata": {},
   "outputs": [],
   "source": []
  }
 ],
 "metadata": {
  "celltoolbar": "Raw Cell Format",
  "kernelspec": {
   "display_name": "Python 3 (ipykernel)",
   "language": "python",
   "name": "python3"
  },
  "language_info": {
   "codemirror_mode": {
    "name": "ipython",
    "version": 3
   },
   "file_extension": ".py",
   "mimetype": "text/x-python",
   "name": "python",
   "nbconvert_exporter": "python",
   "pygments_lexer": "ipython3",
   "version": "3.10.4"
  }
 },
 "nbformat": 4,
 "nbformat_minor": 5
}
